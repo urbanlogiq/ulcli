{
 "cells": [
  {
   "cell_type": "code",
   "execution_count": 3,
   "id": "be081ba3",
   "metadata": {},
   "outputs": [],
   "source": [
    "import datetime\n",
    "from typing import Any\n",
    "import re"
   ]
  },
  {
   "cell_type": "code",
   "execution_count": 2,
   "id": "7f4d9887",
   "metadata": {},
   "outputs": [
    {
     "data": {
      "text/plain": [
       "1745391600"
      ]
     },
     "execution_count": 2,
     "metadata": {},
     "output_type": "execute_result"
    }
   ],
   "source": [
    "arg = '2025-04-23'\n",
    "int(datetime.datetime.strptime(arg, \"%Y-%m-%d\").timestamp())"
   ]
  },
  {
   "cell_type": "code",
   "execution_count": 5,
   "id": "29c929cb",
   "metadata": {},
   "outputs": [],
   "source": [
    "def parse_timestamp_arg(arg: Any) -> int | None:\n",
    "    if arg is None:\n",
    "        return None\n",
    "    if isinstance(arg, str) and re.match(r\"\\d{4}-\\d{2}-\\d{2}\", arg):\n",
    "        return int(datetime.datetime.strptime(arg, \"%Y-%m-%d\").timestamp())\n",
    "    if isinstance(arg, int):\n",
    "        return arg\n",
    "    raise ValueError(\n",
    "        f\"Invalid timestamp: {arg}. Must be a number (unix seconds) or a string in YYYY-MM-DD format\"\n",
    "    )"
   ]
  },
  {
   "cell_type": "code",
   "execution_count": 6,
   "id": "0291c957",
   "metadata": {},
   "outputs": [
    {
     "data": {
      "text/plain": [
       "1745391600"
      ]
     },
     "execution_count": 6,
     "metadata": {},
     "output_type": "execute_result"
    }
   ],
   "source": [
    "time1 = parse_timestamp_arg('2025-04-23')\n",
    "time1"
   ]
  },
  {
   "cell_type": "code",
   "execution_count": 10,
   "id": "cf76ba3e",
   "metadata": {},
   "outputs": [
    {
     "data": {
      "text/plain": [
       "1745391600"
      ]
     },
     "execution_count": 10,
     "metadata": {},
     "output_type": "execute_result"
    }
   ],
   "source": [
    "time2 = parse_timestamp_arg(1745391600)\n",
    "time2"
   ]
  },
  {
   "cell_type": "code",
   "execution_count": null,
   "id": "0764374d",
   "metadata": {},
   "outputs": [],
   "source": []
  },
  {
   "cell_type": "code",
   "execution_count": null,
   "id": "83de7d4f",
   "metadata": {},
   "outputs": [],
   "source": []
  },
  {
   "cell_type": "code",
   "execution_count": null,
   "id": "3762fbbe",
   "metadata": {},
   "outputs": [],
   "source": []
  }
 ],
 "metadata": {
  "kernelspec": {
   "display_name": "Python 3",
   "language": "python",
   "name": "python3"
  },
  "language_info": {
   "codemirror_mode": {
    "name": "ipython",
    "version": 3
   },
   "file_extension": ".py",
   "mimetype": "text/x-python",
   "name": "python",
   "nbconvert_exporter": "python",
   "pygments_lexer": "ipython3",
   "version": "3.12.8"
  }
 },
 "nbformat": 4,
 "nbformat_minor": 5
}
